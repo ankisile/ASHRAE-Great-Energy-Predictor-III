{
  "nbformat": 4,
  "nbformat_minor": 0,
  "metadata": {
    "colab": {
      "name": "ASHRAE.ipynb",
      "provenance": [],
      "collapsed_sections": [],
      "authorship_tag": "ABX9TyNFXyr5WPpcGqB1GE7Tmjtl",
      "include_colab_link": true
    },
    "kernelspec": {
      "display_name": "Python 3",
      "name": "python3"
    },
    "language_info": {
      "name": "python"
    }
  },
  "cells": [
    {
      "cell_type": "markdown",
      "metadata": {
        "id": "view-in-github",
        "colab_type": "text"
      },
      "source": [
        "<a href=\"https://colab.research.google.com/github/ankisile/ASHRAE-Great-Energy-Predictor-III/blob/main/ASHRAE.ipynb\" target=\"_parent\"><img src=\"https://colab.research.google.com/assets/colab-badge.svg\" alt=\"Open In Colab\"/></a>"
      ]
    },
    {
      "cell_type": "code",
      "metadata": {
        "id": "eR2Glypy8H8h"
      },
      "source": [
        "! pip install -q kaggle"
      ],
      "execution_count": null,
      "outputs": []
    },
    {
      "cell_type": "code",
      "metadata": {
        "id": "wBP4ecrF8Ty9"
      },
      "source": [
        "!mkdir -p ~/.kaggle"
      ],
      "execution_count": null,
      "outputs": []
    },
    {
      "cell_type": "code",
      "metadata": {
        "colab": {
          "resources": {
            "http://localhost:8080/nbextensions/google.colab/files.js": {
              "data": "Ly8gQ29weXJpZ2h0IDIwMTcgR29vZ2xlIExMQwovLwovLyBMaWNlbnNlZCB1bmRlciB0aGUgQXBhY2hlIExpY2Vuc2UsIFZlcnNpb24gMi4wICh0aGUgIkxpY2Vuc2UiKTsKLy8geW91IG1heSBub3QgdXNlIHRoaXMgZmlsZSBleGNlcHQgaW4gY29tcGxpYW5jZSB3aXRoIHRoZSBMaWNlbnNlLgovLyBZb3UgbWF5IG9idGFpbiBhIGNvcHkgb2YgdGhlIExpY2Vuc2UgYXQKLy8KLy8gICAgICBodHRwOi8vd3d3LmFwYWNoZS5vcmcvbGljZW5zZXMvTElDRU5TRS0yLjAKLy8KLy8gVW5sZXNzIHJlcXVpcmVkIGJ5IGFwcGxpY2FibGUgbGF3IG9yIGFncmVlZCB0byBpbiB3cml0aW5nLCBzb2Z0d2FyZQovLyBkaXN0cmlidXRlZCB1bmRlciB0aGUgTGljZW5zZSBpcyBkaXN0cmlidXRlZCBvbiBhbiAiQVMgSVMiIEJBU0lTLAovLyBXSVRIT1VUIFdBUlJBTlRJRVMgT1IgQ09ORElUSU9OUyBPRiBBTlkgS0lORCwgZWl0aGVyIGV4cHJlc3Mgb3IgaW1wbGllZC4KLy8gU2VlIHRoZSBMaWNlbnNlIGZvciB0aGUgc3BlY2lmaWMgbGFuZ3VhZ2UgZ292ZXJuaW5nIHBlcm1pc3Npb25zIGFuZAovLyBsaW1pdGF0aW9ucyB1bmRlciB0aGUgTGljZW5zZS4KCi8qKgogKiBAZmlsZW92ZXJ2aWV3IEhlbHBlcnMgZm9yIGdvb2dsZS5jb2xhYiBQeXRob24gbW9kdWxlLgogKi8KKGZ1bmN0aW9uKHNjb3BlKSB7CmZ1bmN0aW9uIHNwYW4odGV4dCwgc3R5bGVBdHRyaWJ1dGVzID0ge30pIHsKICBjb25zdCBlbGVtZW50ID0gZG9jdW1lbnQuY3JlYXRlRWxlbWVudCgnc3BhbicpOwogIGVsZW1lbnQudGV4dENvbnRlbnQgPSB0ZXh0OwogIGZvciAoY29uc3Qga2V5IG9mIE9iamVjdC5rZXlzKHN0eWxlQXR0cmlidXRlcykpIHsKICAgIGVsZW1lbnQuc3R5bGVba2V5XSA9IHN0eWxlQXR0cmlidXRlc1trZXldOwogIH0KICByZXR1cm4gZWxlbWVudDsKfQoKLy8gTWF4IG51bWJlciBvZiBieXRlcyB3aGljaCB3aWxsIGJlIHVwbG9hZGVkIGF0IGEgdGltZS4KY29uc3QgTUFYX1BBWUxPQURfU0laRSA9IDEwMCAqIDEwMjQ7CgpmdW5jdGlvbiBfdXBsb2FkRmlsZXMoaW5wdXRJZCwgb3V0cHV0SWQpIHsKICBjb25zdCBzdGVwcyA9IHVwbG9hZEZpbGVzU3RlcChpbnB1dElkLCBvdXRwdXRJZCk7CiAgY29uc3Qgb3V0cHV0RWxlbWVudCA9IGRvY3VtZW50LmdldEVsZW1lbnRCeUlkKG91dHB1dElkKTsKICAvLyBDYWNoZSBzdGVwcyBvbiB0aGUgb3V0cHV0RWxlbWVudCB0byBtYWtlIGl0IGF2YWlsYWJsZSBmb3IgdGhlIG5leHQgY2FsbAogIC8vIHRvIHVwbG9hZEZpbGVzQ29udGludWUgZnJvbSBQeXRob24uCiAgb3V0cHV0RWxlbWVudC5zdGVwcyA9IHN0ZXBzOwoKICByZXR1cm4gX3VwbG9hZEZpbGVzQ29udGludWUob3V0cHV0SWQpOwp9CgovLyBUaGlzIGlzIHJvdWdobHkgYW4gYXN5bmMgZ2VuZXJhdG9yIChub3Qgc3VwcG9ydGVkIGluIHRoZSBicm93c2VyIHlldCksCi8vIHdoZXJlIHRoZXJlIGFyZSBtdWx0aXBsZSBhc3luY2hyb25vdXMgc3RlcHMgYW5kIHRoZSBQeXRob24gc2lkZSBpcyBnb2luZwovLyB0byBwb2xsIGZvciBjb21wbGV0aW9uIG9mIGVhY2ggc3RlcC4KLy8gVGhpcyB1c2VzIGEgUHJvbWlzZSB0byBibG9jayB0aGUgcHl0aG9uIHNpZGUgb24gY29tcGxldGlvbiBvZiBlYWNoIHN0ZXAsCi8vIHRoZW4gcGFzc2VzIHRoZSByZXN1bHQgb2YgdGhlIHByZXZpb3VzIHN0ZXAgYXMgdGhlIGlucHV0IHRvIHRoZSBuZXh0IHN0ZXAuCmZ1bmN0aW9uIF91cGxvYWRGaWxlc0NvbnRpbnVlKG91dHB1dElkKSB7CiAgY29uc3Qgb3V0cHV0RWxlbWVudCA9IGRvY3VtZW50LmdldEVsZW1lbnRCeUlkKG91dHB1dElkKTsKICBjb25zdCBzdGVwcyA9IG91dHB1dEVsZW1lbnQuc3RlcHM7CgogIGNvbnN0IG5leHQgPSBzdGVwcy5uZXh0KG91dHB1dEVsZW1lbnQubGFzdFByb21pc2VWYWx1ZSk7CiAgcmV0dXJuIFByb21pc2UucmVzb2x2ZShuZXh0LnZhbHVlLnByb21pc2UpLnRoZW4oKHZhbHVlKSA9PiB7CiAgICAvLyBDYWNoZSB0aGUgbGFzdCBwcm9taXNlIHZhbHVlIHRvIG1ha2UgaXQgYXZhaWxhYmxlIHRvIHRoZSBuZXh0CiAgICAvLyBzdGVwIG9mIHRoZSBnZW5lcmF0b3IuCiAgICBvdXRwdXRFbGVtZW50Lmxhc3RQcm9taXNlVmFsdWUgPSB2YWx1ZTsKICAgIHJldHVybiBuZXh0LnZhbHVlLnJlc3BvbnNlOwogIH0pOwp9CgovKioKICogR2VuZXJhdG9yIGZ1bmN0aW9uIHdoaWNoIGlzIGNhbGxlZCBiZXR3ZWVuIGVhY2ggYXN5bmMgc3RlcCBvZiB0aGUgdXBsb2FkCiAqIHByb2Nlc3MuCiAqIEBwYXJhbSB7c3RyaW5nfSBpbnB1dElkIEVsZW1lbnQgSUQgb2YgdGhlIGlucHV0IGZpbGUgcGlja2VyIGVsZW1lbnQuCiAqIEBwYXJhbSB7c3RyaW5nfSBvdXRwdXRJZCBFbGVtZW50IElEIG9mIHRoZSBvdXRwdXQgZGlzcGxheS4KICogQHJldHVybiB7IUl0ZXJhYmxlPCFPYmplY3Q+fSBJdGVyYWJsZSBvZiBuZXh0IHN0ZXBzLgogKi8KZnVuY3Rpb24qIHVwbG9hZEZpbGVzU3RlcChpbnB1dElkLCBvdXRwdXRJZCkgewogIGNvbnN0IGlucHV0RWxlbWVudCA9IGRvY3VtZW50LmdldEVsZW1lbnRCeUlkKGlucHV0SWQpOwogIGlucHV0RWxlbWVudC5kaXNhYmxlZCA9IGZhbHNlOwoKICBjb25zdCBvdXRwdXRFbGVtZW50ID0gZG9jdW1lbnQuZ2V0RWxlbWVudEJ5SWQob3V0cHV0SWQpOwogIG91dHB1dEVsZW1lbnQuaW5uZXJIVE1MID0gJyc7CgogIGNvbnN0IHBpY2tlZFByb21pc2UgPSBuZXcgUHJvbWlzZSgocmVzb2x2ZSkgPT4gewogICAgaW5wdXRFbGVtZW50LmFkZEV2ZW50TGlzdGVuZXIoJ2NoYW5nZScsIChlKSA9PiB7CiAgICAgIHJlc29sdmUoZS50YXJnZXQuZmlsZXMpOwogICAgfSk7CiAgfSk7CgogIGNvbnN0IGNhbmNlbCA9IGRvY3VtZW50LmNyZWF0ZUVsZW1lbnQoJ2J1dHRvbicpOwogIGlucHV0RWxlbWVudC5wYXJlbnRFbGVtZW50LmFwcGVuZENoaWxkKGNhbmNlbCk7CiAgY2FuY2VsLnRleHRDb250ZW50ID0gJ0NhbmNlbCB1cGxvYWQnOwogIGNvbnN0IGNhbmNlbFByb21pc2UgPSBuZXcgUHJvbWlzZSgocmVzb2x2ZSkgPT4gewogICAgY2FuY2VsLm9uY2xpY2sgPSAoKSA9PiB7CiAgICAgIHJlc29sdmUobnVsbCk7CiAgICB9OwogIH0pOwoKICAvLyBXYWl0IGZvciB0aGUgdXNlciB0byBwaWNrIHRoZSBmaWxlcy4KICBjb25zdCBmaWxlcyA9IHlpZWxkIHsKICAgIHByb21pc2U6IFByb21pc2UucmFjZShbcGlja2VkUHJvbWlzZSwgY2FuY2VsUHJvbWlzZV0pLAogICAgcmVzcG9uc2U6IHsKICAgICAgYWN0aW9uOiAnc3RhcnRpbmcnLAogICAgfQogIH07CgogIGNhbmNlbC5yZW1vdmUoKTsKCiAgLy8gRGlzYWJsZSB0aGUgaW5wdXQgZWxlbWVudCBzaW5jZSBmdXJ0aGVyIHBpY2tzIGFyZSBub3QgYWxsb3dlZC4KICBpbnB1dEVsZW1lbnQuZGlzYWJsZWQgPSB0cnVlOwoKICBpZiAoIWZpbGVzKSB7CiAgICByZXR1cm4gewogICAgICByZXNwb25zZTogewogICAgICAgIGFjdGlvbjogJ2NvbXBsZXRlJywKICAgICAgfQogICAgfTsKICB9CgogIGZvciAoY29uc3QgZmlsZSBvZiBmaWxlcykgewogICAgY29uc3QgbGkgPSBkb2N1bWVudC5jcmVhdGVFbGVtZW50KCdsaScpOwogICAgbGkuYXBwZW5kKHNwYW4oZmlsZS5uYW1lLCB7Zm9udFdlaWdodDogJ2JvbGQnfSkpOwogICAgbGkuYXBwZW5kKHNwYW4oCiAgICAgICAgYCgke2ZpbGUudHlwZSB8fCAnbi9hJ30pIC0gJHtmaWxlLnNpemV9IGJ5dGVzLCBgICsKICAgICAgICBgbGFzdCBtb2RpZmllZDogJHsKICAgICAgICAgICAgZmlsZS5sYXN0TW9kaWZpZWREYXRlID8gZmlsZS5sYXN0TW9kaWZpZWREYXRlLnRvTG9jYWxlRGF0ZVN0cmluZygpIDoKICAgICAgICAgICAgICAgICAgICAgICAgICAgICAgICAgICAgJ24vYSd9IC0gYCkpOwogICAgY29uc3QgcGVyY2VudCA9IHNwYW4oJzAlIGRvbmUnKTsKICAgIGxpLmFwcGVuZENoaWxkKHBlcmNlbnQpOwoKICAgIG91dHB1dEVsZW1lbnQuYXBwZW5kQ2hpbGQobGkpOwoKICAgIGNvbnN0IGZpbGVEYXRhUHJvbWlzZSA9IG5ldyBQcm9taXNlKChyZXNvbHZlKSA9PiB7CiAgICAgIGNvbnN0IHJlYWRlciA9IG5ldyBGaWxlUmVhZGVyKCk7CiAgICAgIHJlYWRlci5vbmxvYWQgPSAoZSkgPT4gewogICAgICAgIHJlc29sdmUoZS50YXJnZXQucmVzdWx0KTsKICAgICAgfTsKICAgICAgcmVhZGVyLnJlYWRBc0FycmF5QnVmZmVyKGZpbGUpOwogICAgfSk7CiAgICAvLyBXYWl0IGZvciB0aGUgZGF0YSB0byBiZSByZWFkeS4KICAgIGxldCBmaWxlRGF0YSA9IHlpZWxkIHsKICAgICAgcHJvbWlzZTogZmlsZURhdGFQcm9taXNlLAogICAgICByZXNwb25zZTogewogICAgICAgIGFjdGlvbjogJ2NvbnRpbnVlJywKICAgICAgfQogICAgfTsKCiAgICAvLyBVc2UgYSBjaHVua2VkIHNlbmRpbmcgdG8gYXZvaWQgbWVzc2FnZSBzaXplIGxpbWl0cy4gU2VlIGIvNjIxMTU2NjAuCiAgICBsZXQgcG9zaXRpb24gPSAwOwogICAgZG8gewogICAgICBjb25zdCBsZW5ndGggPSBNYXRoLm1pbihmaWxlRGF0YS5ieXRlTGVuZ3RoIC0gcG9zaXRpb24sIE1BWF9QQVlMT0FEX1NJWkUpOwogICAgICBjb25zdCBjaHVuayA9IG5ldyBVaW50OEFycmF5KGZpbGVEYXRhLCBwb3NpdGlvbiwgbGVuZ3RoKTsKICAgICAgcG9zaXRpb24gKz0gbGVuZ3RoOwoKICAgICAgY29uc3QgYmFzZTY0ID0gYnRvYShTdHJpbmcuZnJvbUNoYXJDb2RlLmFwcGx5KG51bGwsIGNodW5rKSk7CiAgICAgIHlpZWxkIHsKICAgICAgICByZXNwb25zZTogewogICAgICAgICAgYWN0aW9uOiAnYXBwZW5kJywKICAgICAgICAgIGZpbGU6IGZpbGUubmFtZSwKICAgICAgICAgIGRhdGE6IGJhc2U2NCwKICAgICAgICB9LAogICAgICB9OwoKICAgICAgbGV0IHBlcmNlbnREb25lID0gZmlsZURhdGEuYnl0ZUxlbmd0aCA9PT0gMCA/CiAgICAgICAgICAxMDAgOgogICAgICAgICAgTWF0aC5yb3VuZCgocG9zaXRpb24gLyBmaWxlRGF0YS5ieXRlTGVuZ3RoKSAqIDEwMCk7CiAgICAgIHBlcmNlbnQudGV4dENvbnRlbnQgPSBgJHtwZXJjZW50RG9uZX0lIGRvbmVgOwoKICAgIH0gd2hpbGUgKHBvc2l0aW9uIDwgZmlsZURhdGEuYnl0ZUxlbmd0aCk7CiAgfQoKICAvLyBBbGwgZG9uZS4KICB5aWVsZCB7CiAgICByZXNwb25zZTogewogICAgICBhY3Rpb246ICdjb21wbGV0ZScsCiAgICB9CiAgfTsKfQoKc2NvcGUuZ29vZ2xlID0gc2NvcGUuZ29vZ2xlIHx8IHt9OwpzY29wZS5nb29nbGUuY29sYWIgPSBzY29wZS5nb29nbGUuY29sYWIgfHwge307CnNjb3BlLmdvb2dsZS5jb2xhYi5fZmlsZXMgPSB7CiAgX3VwbG9hZEZpbGVzLAogIF91cGxvYWRGaWxlc0NvbnRpbnVlLAp9Owp9KShzZWxmKTsK",
              "ok": true,
              "headers": [
                [
                  "content-type",
                  "application/javascript"
                ]
              ],
              "status": 200,
              "status_text": ""
            }
          },
          "base_uri": "https://localhost:8080/",
          "height": 76
        },
        "id": "uKU9IlhD8Vi_",
        "outputId": "09b0a37b-0922-4990-b9de-6a8d78d03221"
      },
      "source": [
        "from google.colab import files\n",
        "uploaded = files.upload()"
      ],
      "execution_count": null,
      "outputs": [
        {
          "output_type": "display_data",
          "data": {
            "text/html": [
              "\n",
              "     <input type=\"file\" id=\"files-908031e8-1a16-4d50-8f4a-34278f00d5ad\" name=\"files[]\" multiple disabled\n",
              "        style=\"border:none\" />\n",
              "     <output id=\"result-908031e8-1a16-4d50-8f4a-34278f00d5ad\">\n",
              "      Upload widget is only available when the cell has been executed in the\n",
              "      current browser session. Please rerun this cell to enable.\n",
              "      </output>\n",
              "      <script src=\"/nbextensions/google.colab/files.js\"></script> "
            ],
            "text/plain": [
              "<IPython.core.display.HTML object>"
            ]
          },
          "metadata": {}
        },
        {
          "output_type": "stream",
          "text": [
            "Saving kaggle.json to kaggle.json\n"
          ],
          "name": "stdout"
        }
      ]
    },
    {
      "cell_type": "code",
      "metadata": {
        "id": "JNVVl8bU8YcQ"
      },
      "source": [
        "!cp kaggle.json ~/.kaggle/"
      ],
      "execution_count": null,
      "outputs": []
    },
    {
      "cell_type": "code",
      "metadata": {
        "id": "ni_iMMZj8bXY"
      },
      "source": [
        "!chmod 600 /root/.kaggle/kaggle.json"
      ],
      "execution_count": null,
      "outputs": []
    },
    {
      "cell_type": "code",
      "metadata": {
        "id": "ZhFf9DUj8cHV",
        "colab": {
          "base_uri": "https://localhost:8080/"
        },
        "outputId": "9a994f6a-eec7-4dff-ac40-300dc49cae41"
      },
      "source": [
        "!kaggle competitions download -c ashrae-energy-prediction"
      ],
      "execution_count": null,
      "outputs": [
        {
          "output_type": "stream",
          "text": [
            "Warning: Looks like you're using an outdated API Version, please consider updating (server 1.5.12 / client 1.5.4)\n",
            "Downloading test.csv.zip to /content\n",
            " 97% 161M/167M [00:01<00:00, 121MB/s]\n",
            "100% 167M/167M [00:01<00:00, 133MB/s]\n",
            "Downloading weather_train.csv.zip to /content\n",
            "  0% 0.00/1.27M [00:00<?, ?B/s]\n",
            "100% 1.27M/1.27M [00:00<00:00, 84.5MB/s]\n",
            "Downloading weather_test.csv.zip to /content\n",
            "  0% 0.00/2.53M [00:00<?, ?B/s]\n",
            "100% 2.53M/2.53M [00:00<00:00, 171MB/s]\n",
            "Downloading train.csv.zip to /content\n",
            "100% 120M/120M [00:01<00:00, 114MB/s]\n",
            "\n",
            "Downloading sample_submission.csv.zip to /content\n",
            " 81% 72.0M/88.4M [00:00<00:00, 123MB/s]\n",
            "100% 88.4M/88.4M [00:00<00:00, 138MB/s]\n",
            "Downloading building_metadata.csv to /content\n",
            "  0% 0.00/44.5k [00:00<?, ?B/s]\n",
            "100% 44.5k/44.5k [00:00<00:00, 45.3MB/s]\n"
          ],
          "name": "stdout"
        }
      ]
    },
    {
      "cell_type": "code",
      "metadata": {
        "id": "O5B62JNz8d6M"
      },
      "source": [
        "! unzip -q sample_submission.csv.zip\n",
        "! unzip -q test.csv.zip\n",
        "! unzip -q train.csv.zip\n",
        "! unzip -q weather_test.csv.zip\n",
        "! unzip -q weather_train.csv.zip"
      ],
      "execution_count": null,
      "outputs": []
    },
    {
      "cell_type": "markdown",
      "metadata": {
        "id": "r4RwGsyNFZZG"
      },
      "source": [
        "There are 4 types of energy to predict\n",
        "\n",
        "- 0 : electricity\n",
        "- 1 : chilledwater\n",
        "- 2 : steam\n",
        "- 3 : hotwater\n",
        "\n",
        "Electricity and water consumption may have different behavior!\n",
        "\n",
        " - I will make separately train & predict the model"
      ]
    },
    {
      "cell_type": "code",
      "metadata": {
        "id": "1xL4xjFtFYHf"
      },
      "source": [
        "import pandas as pd\n",
        "import numpy as np\n",
        "import matplotlib.pyplot as plt\n",
        "import lightgbm as lgb\n",
        "from sklearn.preprocessing import LabelEncoder\n",
        "from sklearn.model_selection import KFold\n",
        "import datetime\n",
        "import gc"
      ],
      "execution_count": null,
      "outputs": []
    },
    {
      "cell_type": "code",
      "metadata": {
        "id": "j2KQEHz2FeTT"
      },
      "source": [
        "train_df = pd.read_csv('train.csv')\n",
        "weather_train_df = pd.read_csv('weather_train.csv')\n",
        "\n",
        "# Remove outliers\n",
        "train_df = train_df [ train_df['building_id'] != 1099 ]\n",
        "train_df = train_df.query('not (building_id <= 104 & meter == 0 & timestamp <= \"2016-05-20\")')\n",
        "\n",
        "building_meta_df = pd.read_csv('building_metadata.csv')\n"
      ],
      "execution_count": null,
      "outputs": []
    },
    {
      "cell_type": "markdown",
      "metadata": {
        "id": "O7ZLYv7ADzLA"
      },
      "source": [
        "# Utility Functions"
      ]
    },
    {
      "cell_type": "code",
      "metadata": {
        "id": "-TI9rP47HUnT"
      },
      "source": [
        "# Original code from https://www.kaggle.com/gemartin/load-data-reduce-memory-usage by @gemartin\n",
        "# Modified to support timestamp type, categorical type\n",
        "# Modified to add option to use float16 or not. feather format does not support float16.\n",
        "from pandas.api.types import is_datetime64_any_dtype as is_datetime\n",
        "from pandas.api.types import is_categorical_dtype\n",
        "\n",
        "def reduce_mem_usage(df, use_float16=False):\n",
        "    \"\"\" iterate through all the columns of a dataframe and modify the data type\n",
        "        to reduce memory usage.        \n",
        "    \"\"\"\n",
        "    start_mem = df.memory_usage().sum() / 1024**2\n",
        "    print('Memory usage of dataframe is {:.2f} MB'.format(start_mem))\n",
        "    \n",
        "    for col in df.columns:\n",
        "        if is_datetime(df[col]) or is_categorical_dtype(df[col]):\n",
        "            # skip datetime type or categorical type\n",
        "            continue\n",
        "        col_type = df[col].dtype\n",
        "        \n",
        "        if col_type != object:\n",
        "            c_min = df[col].min()\n",
        "            c_max = df[col].max()\n",
        "            if str(col_type)[:3] == 'int':\n",
        "                if c_min > np.iinfo(np.int8).min and c_max < np.iinfo(np.int8).max:\n",
        "                    df[col] = df[col].astype(np.int8)\n",
        "                elif c_min > np.iinfo(np.int16).min and c_max < np.iinfo(np.int16).max:\n",
        "                    df[col] = df[col].astype(np.int16)\n",
        "                elif c_min > np.iinfo(np.int32).min and c_max < np.iinfo(np.int32).max:\n",
        "                    df[col] = df[col].astype(np.int32)\n",
        "                elif c_min > np.iinfo(np.int64).min and c_max < np.iinfo(np.int64).max:\n",
        "                    df[col] = df[col].astype(np.int64)  \n",
        "            else:\n",
        "                if use_float16 and c_min > np.finfo(np.float16).min and c_max < np.finfo(np.float16).max:\n",
        "                    df[col] = df[col].astype(np.float16)\n",
        "                elif c_min > np.finfo(np.float32).min and c_max < np.finfo(np.float32).max:\n",
        "                    df[col] = df[col].astype(np.float32)\n",
        "                else:\n",
        "                    df[col] = df[col].astype(np.float64)\n",
        "        else:\n",
        "            df[col] = df[col].astype('category')\n",
        "\n",
        "    end_mem = df.memory_usage().sum() / 1024**2\n",
        "    print('Memory usage after optimization is: {:.2f} MB'.format(end_mem))\n",
        "    print('Decreased by {:.1f}%'.format(100 * (start_mem - end_mem) / start_mem))\n",
        "    \n",
        "    return df"
      ],
      "execution_count": null,
      "outputs": []
    },
    {
      "cell_type": "code",
      "metadata": {
        "id": "_L0ZT24VEIKO"
      },
      "source": [
        "def fill_weather_dataset(weather_df):\n",
        "    \n",
        "    # Find Missing Dates\n",
        "    time_format = \"%Y-%m-%d %H:%M:%S\"\n",
        "    start_date = datetime.datetime.strptime(weather_df['timestamp'].min(),time_format)\n",
        "    end_date = datetime.datetime.strptime(weather_df['timestamp'].max(),time_format)\n",
        "    total_hours = int(((end_date - start_date).total_seconds() + 3600) / 3600)\n",
        "    hours_list = [(end_date - datetime.timedelta(hours=x)).strftime(time_format) for x in range(total_hours)]\n",
        "\n",
        "    missing_hours = []\n",
        "    for site_id in range(16):\n",
        "        site_hours = np.array(weather_df[weather_df['site_id'] == site_id]['timestamp'])\n",
        "        new_rows = pd.DataFrame(np.setdiff1d(hours_list,site_hours),columns=['timestamp'])\n",
        "        new_rows['site_id'] = site_id\n",
        "        weather_df = pd.concat([weather_df,new_rows])\n",
        "\n",
        "        weather_df = weather_df.reset_index(drop=True)           \n",
        "\n",
        "    # Add new Features\n",
        "    weather_df[\"datetime\"] = pd.to_datetime(weather_df[\"timestamp\"])\n",
        "    weather_df[\"day\"] = weather_df[\"datetime\"].dt.day\n",
        "    weather_df[\"week\"] = weather_df[\"datetime\"].dt.week\n",
        "    weather_df[\"month\"] = weather_df[\"datetime\"].dt.month\n",
        "\n",
        "     # Reset Index for Fast Update\n",
        "    weather_df = weather_df.set_index(['site_id','day','month'])\n",
        "\n",
        "    air_temperature_filler = pd.DataFrame(weather_df.groupby(['site_id','day','month'])['air_temperature'].mean(),columns=[\"air_temperature\"])\n",
        "    weather_df.update(air_temperature_filler,overwrite=False)\n",
        "\n",
        "    # Step 1\n",
        "    cloud_coverage_filler = weather_df.groupby(['site_id','day','month'])['cloud_coverage'].mean()\n",
        "    # Step 2\n",
        "    cloud_coverage_filler = pd.DataFrame(cloud_coverage_filler.fillna(method='ffill'),columns=[\"cloud_coverage\"])\n",
        "\n",
        "    weather_df.update(cloud_coverage_filler,overwrite=False)\n",
        "\n",
        "    due_temperature_filler = pd.DataFrame(weather_df.groupby(['site_id','day','month'])['dew_temperature'].mean(),columns=[\"dew_temperature\"])\n",
        "    weather_df.update(due_temperature_filler,overwrite=False)\n",
        "\n",
        "    # Step 1\n",
        "    sea_level_filler = weather_df.groupby(['site_id','day','month'])['sea_level_pressure'].mean()\n",
        "    # Step 2\n",
        "    sea_level_filler = pd.DataFrame(sea_level_filler.fillna(method='ffill'),columns=['sea_level_pressure'])\n",
        "\n",
        "    weather_df.update(sea_level_filler,overwrite=False)\n",
        "    wind_direction_filler =  pd.DataFrame(weather_df.groupby(['site_id','day','month'])['wind_direction'].mean(),columns=['wind_direction'])\n",
        "    weather_df.update(wind_direction_filler,overwrite=False)\n",
        "\n",
        "    wind_speed_filler =  pd.DataFrame(weather_df.groupby(['site_id','day','month'])['wind_speed'].mean(),columns=['wind_speed'])\n",
        "    weather_df.update(wind_speed_filler,overwrite=False)\n",
        "\n",
        "    # Step 1\n",
        "    precip_depth_filler = weather_df.groupby(['site_id','day','month'])['precip_depth_1_hr'].mean()\n",
        "    # Step 2\n",
        "    precip_depth_filler = pd.DataFrame(precip_depth_filler.fillna(method='ffill'),columns=['precip_depth_1_hr'])\n",
        "\n",
        "    weather_df.update(precip_depth_filler,overwrite=False)\n",
        "\n",
        "    weather_df = weather_df.reset_index()\n",
        "    weather_df = weather_df.drop(['datetime','day','week','month'],axis=1)\n",
        "        \n",
        "    return weather_df\n"
      ],
      "execution_count": null,
      "outputs": []
    },
    {
      "cell_type": "code",
      "metadata": {
        "id": "k-4BgtBTEX_g"
      },
      "source": [
        "def features_engineering(df):\n",
        "    \n",
        "       \n",
        "    # Add more features\n",
        "    df[\"timestamp\"] = pd.to_datetime(df[\"timestamp\"],format=\"%Y-%m-%d %H:%M:%S\")\n",
        "    df[\"hour\"] = df[\"timestamp\"].dt.hour\n",
        "    df[\"weekend\"] = df[\"timestamp\"].dt.weekday\n",
        "    df['square_feet'] =  np.log1p(df['square_feet'])\n",
        "    \n",
        "    # Remove Unused Columns\n",
        "    drop = [\"timestamp\",\"sea_level_pressure\", \"wind_direction\", \"wind_speed\",\"year_built\",\"floor_count\"]\n",
        "    df = df.drop(drop, axis=1)\n",
        "    gc.collect()\n",
        "    \n",
        "    # Encode Categorical Data\n",
        "    le = LabelEncoder()\n",
        "    df[\"primary_use\"] = le.fit_transform(df[\"primary_use\"])\n",
        "    \n",
        "    return df"
      ],
      "execution_count": null,
      "outputs": []
    },
    {
      "cell_type": "code",
      "metadata": {
        "colab": {
          "base_uri": "https://localhost:8080/"
        },
        "id": "N2lIItJ8ErJC",
        "outputId": "c917753e-de2e-4360-93f4-b0b56b658b0b"
      },
      "source": [
        "weather_train_df = fill_weather_dataset(weather_train_df)"
      ],
      "execution_count": null,
      "outputs": [
        {
          "output_type": "stream",
          "text": [
            "/usr/local/lib/python3.7/dist-packages/ipykernel_launcher.py:22: FutureWarning: Series.dt.weekofyear and Series.dt.week have been deprecated.  Please use Series.dt.isocalendar().week instead.\n"
          ],
          "name": "stderr"
        }
      ]
    },
    {
      "cell_type": "code",
      "metadata": {
        "colab": {
          "base_uri": "https://localhost:8080/"
        },
        "id": "Q34SRLmVE3AN",
        "outputId": "c1d673e6-69b2-48d1-e5d4-efbf90a92577"
      },
      "source": [
        "train_df = reduce_mem_usage(train_df,use_float16=True)\n",
        "building_meta_df = reduce_mem_usage(building_meta_df,use_float16=True)\n",
        "weather_train_df = reduce_mem_usage(weather_train_df,use_float16=True)"
      ],
      "execution_count": null,
      "outputs": [
        {
          "output_type": "stream",
          "text": [
            "Memory usage of dataframe is 757.31 MB\n",
            "Memory usage after optimization is: 322.24 MB\n",
            "Decreased by 57.4%\n",
            "Memory usage of dataframe is 0.07 MB\n",
            "Memory usage after optimization is: 0.02 MB\n",
            "Decreased by 73.8%\n",
            "Memory usage of dataframe is 9.65 MB\n",
            "Memory usage after optimization is: 2.66 MB\n",
            "Decreased by 72.5%\n"
          ],
          "name": "stdout"
        }
      ]
    },
    {
      "cell_type": "code",
      "metadata": {
        "colab": {
          "base_uri": "https://localhost:8080/"
        },
        "id": "p0navkg1E8FR",
        "outputId": "9d896e36-17a4-4b00-ce37-53f8952adcee"
      },
      "source": [
        "train_df = train_df.merge(building_meta_df, left_on='building_id',right_on='building_id',how='left')\n",
        "train_df = train_df.merge(weather_train_df,how='left',left_on=['site_id','timestamp'],right_on=['site_id','timestamp'])\n",
        "del weather_train_df\n",
        "gc.collect()"
      ],
      "execution_count": null,
      "outputs": [
        {
          "output_type": "execute_result",
          "data": {
            "text/plain": [
              "88"
            ]
          },
          "metadata": {},
          "execution_count": 9
        }
      ]
    },
    {
      "cell_type": "code",
      "metadata": {
        "id": "hmzWG0lQE8KE"
      },
      "source": [
        "train_df = features_engineering(train_df)"
      ],
      "execution_count": null,
      "outputs": []
    },
    {
      "cell_type": "code",
      "metadata": {
        "colab": {
          "base_uri": "https://localhost:8080/",
          "height": 665
        },
        "id": "QkeFw2VIE8L6",
        "outputId": "06af91aa-946e-4345-c1a1-a129c985918a"
      },
      "source": [
        "train_df.head(20)"
      ],
      "execution_count": null,
      "outputs": [
        {
          "output_type": "execute_result",
          "data": {
            "text/html": [
              "<div>\n",
              "<style scoped>\n",
              "    .dataframe tbody tr th:only-of-type {\n",
              "        vertical-align: middle;\n",
              "    }\n",
              "\n",
              "    .dataframe tbody tr th {\n",
              "        vertical-align: top;\n",
              "    }\n",
              "\n",
              "    .dataframe thead th {\n",
              "        text-align: right;\n",
              "    }\n",
              "</style>\n",
              "<table border=\"1\" class=\"dataframe\">\n",
              "  <thead>\n",
              "    <tr style=\"text-align: right;\">\n",
              "      <th></th>\n",
              "      <th>building_id</th>\n",
              "      <th>meter</th>\n",
              "      <th>meter_reading</th>\n",
              "      <th>site_id</th>\n",
              "      <th>primary_use</th>\n",
              "      <th>square_feet</th>\n",
              "      <th>air_temperature</th>\n",
              "      <th>cloud_coverage</th>\n",
              "      <th>dew_temperature</th>\n",
              "      <th>precip_depth_1_hr</th>\n",
              "      <th>hour</th>\n",
              "      <th>weekend</th>\n",
              "    </tr>\n",
              "  </thead>\n",
              "  <tbody>\n",
              "    <tr>\n",
              "      <th>0</th>\n",
              "      <td>105</td>\n",
              "      <td>0</td>\n",
              "      <td>23.303600</td>\n",
              "      <td>1</td>\n",
              "      <td>0</td>\n",
              "      <td>10.832181</td>\n",
              "      <td>3.800781</td>\n",
              "      <td>0.0</td>\n",
              "      <td>2.400391</td>\n",
              "      <td>0.0</td>\n",
              "      <td>0</td>\n",
              "      <td>4</td>\n",
              "    </tr>\n",
              "    <tr>\n",
              "      <th>1</th>\n",
              "      <td>106</td>\n",
              "      <td>0</td>\n",
              "      <td>0.374600</td>\n",
              "      <td>1</td>\n",
              "      <td>0</td>\n",
              "      <td>8.589514</td>\n",
              "      <td>3.800781</td>\n",
              "      <td>0.0</td>\n",
              "      <td>2.400391</td>\n",
              "      <td>0.0</td>\n",
              "      <td>0</td>\n",
              "      <td>4</td>\n",
              "    </tr>\n",
              "    <tr>\n",
              "      <th>2</th>\n",
              "      <td>106</td>\n",
              "      <td>3</td>\n",
              "      <td>0.000000</td>\n",
              "      <td>1</td>\n",
              "      <td>0</td>\n",
              "      <td>8.589514</td>\n",
              "      <td>3.800781</td>\n",
              "      <td>0.0</td>\n",
              "      <td>2.400391</td>\n",
              "      <td>0.0</td>\n",
              "      <td>0</td>\n",
              "      <td>4</td>\n",
              "    </tr>\n",
              "    <tr>\n",
              "      <th>3</th>\n",
              "      <td>107</td>\n",
              "      <td>0</td>\n",
              "      <td>175.184006</td>\n",
              "      <td>1</td>\n",
              "      <td>0</td>\n",
              "      <td>11.487946</td>\n",
              "      <td>3.800781</td>\n",
              "      <td>0.0</td>\n",
              "      <td>2.400391</td>\n",
              "      <td>0.0</td>\n",
              "      <td>0</td>\n",
              "      <td>4</td>\n",
              "    </tr>\n",
              "    <tr>\n",
              "      <th>4</th>\n",
              "      <td>108</td>\n",
              "      <td>0</td>\n",
              "      <td>91.265297</td>\n",
              "      <td>1</td>\n",
              "      <td>0</td>\n",
              "      <td>11.309352</td>\n",
              "      <td>3.800781</td>\n",
              "      <td>0.0</td>\n",
              "      <td>2.400391</td>\n",
              "      <td>0.0</td>\n",
              "      <td>0</td>\n",
              "      <td>4</td>\n",
              "    </tr>\n",
              "    <tr>\n",
              "      <th>5</th>\n",
              "      <td>109</td>\n",
              "      <td>0</td>\n",
              "      <td>80.930000</td>\n",
              "      <td>1</td>\n",
              "      <td>0</td>\n",
              "      <td>10.950736</td>\n",
              "      <td>3.800781</td>\n",
              "      <td>0.0</td>\n",
              "      <td>2.400391</td>\n",
              "      <td>0.0</td>\n",
              "      <td>0</td>\n",
              "      <td>4</td>\n",
              "    </tr>\n",
              "    <tr>\n",
              "      <th>6</th>\n",
              "      <td>109</td>\n",
              "      <td>3</td>\n",
              "      <td>0.000000</td>\n",
              "      <td>1</td>\n",
              "      <td>0</td>\n",
              "      <td>10.950736</td>\n",
              "      <td>3.800781</td>\n",
              "      <td>0.0</td>\n",
              "      <td>2.400391</td>\n",
              "      <td>0.0</td>\n",
              "      <td>0</td>\n",
              "      <td>4</td>\n",
              "    </tr>\n",
              "    <tr>\n",
              "      <th>7</th>\n",
              "      <td>110</td>\n",
              "      <td>0</td>\n",
              "      <td>86.228302</td>\n",
              "      <td>1</td>\n",
              "      <td>0</td>\n",
              "      <td>10.233331</td>\n",
              "      <td>3.800781</td>\n",
              "      <td>0.0</td>\n",
              "      <td>2.400391</td>\n",
              "      <td>0.0</td>\n",
              "      <td>0</td>\n",
              "      <td>4</td>\n",
              "    </tr>\n",
              "    <tr>\n",
              "      <th>8</th>\n",
              "      <td>111</td>\n",
              "      <td>0</td>\n",
              "      <td>167.391998</td>\n",
              "      <td>1</td>\n",
              "      <td>0</td>\n",
              "      <td>11.681309</td>\n",
              "      <td>3.800781</td>\n",
              "      <td>0.0</td>\n",
              "      <td>2.400391</td>\n",
              "      <td>0.0</td>\n",
              "      <td>0</td>\n",
              "      <td>4</td>\n",
              "    </tr>\n",
              "    <tr>\n",
              "      <th>9</th>\n",
              "      <td>112</td>\n",
              "      <td>0</td>\n",
              "      <td>10.274800</td>\n",
              "      <td>1</td>\n",
              "      <td>0</td>\n",
              "      <td>10.379939</td>\n",
              "      <td>3.800781</td>\n",
              "      <td>0.0</td>\n",
              "      <td>2.400391</td>\n",
              "      <td>0.0</td>\n",
              "      <td>0</td>\n",
              "      <td>4</td>\n",
              "    </tr>\n",
              "    <tr>\n",
              "      <th>10</th>\n",
              "      <td>112</td>\n",
              "      <td>3</td>\n",
              "      <td>96.977997</td>\n",
              "      <td>1</td>\n",
              "      <td>0</td>\n",
              "      <td>10.379939</td>\n",
              "      <td>3.800781</td>\n",
              "      <td>0.0</td>\n",
              "      <td>2.400391</td>\n",
              "      <td>0.0</td>\n",
              "      <td>0</td>\n",
              "      <td>4</td>\n",
              "    </tr>\n",
              "    <tr>\n",
              "      <th>11</th>\n",
              "      <td>113</td>\n",
              "      <td>0</td>\n",
              "      <td>159.643005</td>\n",
              "      <td>1</td>\n",
              "      <td>0</td>\n",
              "      <td>11.517734</td>\n",
              "      <td>3.800781</td>\n",
              "      <td>0.0</td>\n",
              "      <td>2.400391</td>\n",
              "      <td>0.0</td>\n",
              "      <td>0</td>\n",
              "      <td>4</td>\n",
              "    </tr>\n",
              "    <tr>\n",
              "      <th>12</th>\n",
              "      <td>113</td>\n",
              "      <td>3</td>\n",
              "      <td>19.597000</td>\n",
              "      <td>1</td>\n",
              "      <td>0</td>\n",
              "      <td>11.517734</td>\n",
              "      <td>3.800781</td>\n",
              "      <td>0.0</td>\n",
              "      <td>2.400391</td>\n",
              "      <td>0.0</td>\n",
              "      <td>0</td>\n",
              "      <td>4</td>\n",
              "    </tr>\n",
              "    <tr>\n",
              "      <th>13</th>\n",
              "      <td>114</td>\n",
              "      <td>0</td>\n",
              "      <td>324.750000</td>\n",
              "      <td>1</td>\n",
              "      <td>0</td>\n",
              "      <td>11.847138</td>\n",
              "      <td>3.800781</td>\n",
              "      <td>0.0</td>\n",
              "      <td>2.400391</td>\n",
              "      <td>0.0</td>\n",
              "      <td>0</td>\n",
              "      <td>4</td>\n",
              "    </tr>\n",
              "    <tr>\n",
              "      <th>14</th>\n",
              "      <td>114</td>\n",
              "      <td>3</td>\n",
              "      <td>100.000000</td>\n",
              "      <td>1</td>\n",
              "      <td>0</td>\n",
              "      <td>11.847138</td>\n",
              "      <td>3.800781</td>\n",
              "      <td>0.0</td>\n",
              "      <td>2.400391</td>\n",
              "      <td>0.0</td>\n",
              "      <td>0</td>\n",
              "      <td>4</td>\n",
              "    </tr>\n",
              "    <tr>\n",
              "      <th>15</th>\n",
              "      <td>115</td>\n",
              "      <td>0</td>\n",
              "      <td>201.542999</td>\n",
              "      <td>1</td>\n",
              "      <td>0</td>\n",
              "      <td>11.773110</td>\n",
              "      <td>3.800781</td>\n",
              "      <td>0.0</td>\n",
              "      <td>2.400391</td>\n",
              "      <td>0.0</td>\n",
              "      <td>0</td>\n",
              "      <td>4</td>\n",
              "    </tr>\n",
              "    <tr>\n",
              "      <th>16</th>\n",
              "      <td>116</td>\n",
              "      <td>0</td>\n",
              "      <td>69.300003</td>\n",
              "      <td>1</td>\n",
              "      <td>0</td>\n",
              "      <td>10.525837</td>\n",
              "      <td>3.800781</td>\n",
              "      <td>0.0</td>\n",
              "      <td>2.400391</td>\n",
              "      <td>0.0</td>\n",
              "      <td>0</td>\n",
              "      <td>4</td>\n",
              "    </tr>\n",
              "    <tr>\n",
              "      <th>17</th>\n",
              "      <td>117</td>\n",
              "      <td>0</td>\n",
              "      <td>16.306101</td>\n",
              "      <td>1</td>\n",
              "      <td>0</td>\n",
              "      <td>9.647950</td>\n",
              "      <td>3.800781</td>\n",
              "      <td>0.0</td>\n",
              "      <td>2.400391</td>\n",
              "      <td>0.0</td>\n",
              "      <td>0</td>\n",
              "      <td>4</td>\n",
              "    </tr>\n",
              "    <tr>\n",
              "      <th>18</th>\n",
              "      <td>117</td>\n",
              "      <td>3</td>\n",
              "      <td>19.680901</td>\n",
              "      <td>1</td>\n",
              "      <td>0</td>\n",
              "      <td>9.647950</td>\n",
              "      <td>3.800781</td>\n",
              "      <td>0.0</td>\n",
              "      <td>2.400391</td>\n",
              "      <td>0.0</td>\n",
              "      <td>0</td>\n",
              "      <td>4</td>\n",
              "    </tr>\n",
              "    <tr>\n",
              "      <th>19</th>\n",
              "      <td>118</td>\n",
              "      <td>0</td>\n",
              "      <td>117.199997</td>\n",
              "      <td>1</td>\n",
              "      <td>0</td>\n",
              "      <td>11.837303</td>\n",
              "      <td>3.800781</td>\n",
              "      <td>0.0</td>\n",
              "      <td>2.400391</td>\n",
              "      <td>0.0</td>\n",
              "      <td>0</td>\n",
              "      <td>4</td>\n",
              "    </tr>\n",
              "  </tbody>\n",
              "</table>\n",
              "</div>"
            ],
            "text/plain": [
              "    building_id  meter  meter_reading  ...  precip_depth_1_hr  hour  weekend\n",
              "0           105      0      23.303600  ...                0.0     0        4\n",
              "1           106      0       0.374600  ...                0.0     0        4\n",
              "2           106      3       0.000000  ...                0.0     0        4\n",
              "3           107      0     175.184006  ...                0.0     0        4\n",
              "4           108      0      91.265297  ...                0.0     0        4\n",
              "5           109      0      80.930000  ...                0.0     0        4\n",
              "6           109      3       0.000000  ...                0.0     0        4\n",
              "7           110      0      86.228302  ...                0.0     0        4\n",
              "8           111      0     167.391998  ...                0.0     0        4\n",
              "9           112      0      10.274800  ...                0.0     0        4\n",
              "10          112      3      96.977997  ...                0.0     0        4\n",
              "11          113      0     159.643005  ...                0.0     0        4\n",
              "12          113      3      19.597000  ...                0.0     0        4\n",
              "13          114      0     324.750000  ...                0.0     0        4\n",
              "14          114      3     100.000000  ...                0.0     0        4\n",
              "15          115      0     201.542999  ...                0.0     0        4\n",
              "16          116      0      69.300003  ...                0.0     0        4\n",
              "17          117      0      16.306101  ...                0.0     0        4\n",
              "18          117      3      19.680901  ...                0.0     0        4\n",
              "19          118      0     117.199997  ...                0.0     0        4\n",
              "\n",
              "[20 rows x 12 columns]"
            ]
          },
          "metadata": {},
          "execution_count": 11
        }
      ]
    },
    {
      "cell_type": "code",
      "metadata": {
        "colab": {
          "base_uri": "https://localhost:8080/"
        },
        "id": "OSvyO-ZjE8Om",
        "outputId": "3f02c02d-96ad-4b81-82c3-2acd59af6a56"
      },
      "source": [
        "target = np.log1p(train_df[\"meter_reading\"])\n",
        "features = train_df.drop('meter_reading', axis = 1)\n",
        "del train_df\n",
        "gc.collect()"
      ],
      "execution_count": null,
      "outputs": [
        {
          "output_type": "execute_result",
          "data": {
            "text/plain": [
              "88"
            ]
          },
          "metadata": {},
          "execution_count": 12
        }
      ]
    },
    {
      "cell_type": "code",
      "metadata": {
        "colab": {
          "base_uri": "https://localhost:8080/"
        },
        "id": "to_dKnHLFd-_",
        "outputId": "67fc17a2-4187-4a18-8b13-974337479f12"
      },
      "source": [
        "categorical_features = [\"building_id\", \"site_id\", \"meter\", \"primary_use\", \"weekend\"]\n",
        "params = {\n",
        "    \"objective\": \"regression\",\n",
        "    \"boosting\": \"gbdt\",\n",
        "    \"num_leaves\": 1280,\n",
        "    \"learning_rate\": 0.05,\n",
        "    \"feature_fraction\": 0.85,\n",
        "    \"reg_lambda\": 2,\n",
        "    \"metric\": \"rmse\",\n",
        "}\n",
        "kf = KFold(n_splits=3)\n",
        "models = []\n",
        "for train_index,test_index in kf.split(features):\n",
        "    train_features = features.loc[train_index]\n",
        "    train_target = target.loc[train_index]\n",
        "    \n",
        "    test_features = features.loc[test_index]\n",
        "    test_target = target.loc[test_index]\n",
        "    \n",
        "    d_training = lgb.Dataset(train_features, label=train_target,categorical_feature=categorical_features, free_raw_data=False)\n",
        "    d_test = lgb.Dataset(test_features, label=test_target,categorical_feature=categorical_features, free_raw_data=False)\n",
        "    \n",
        "    model = lgb.train(params, train_set=d_training, num_boost_round=1000, valid_sets=[d_training,d_test], verbose_eval=25, early_stopping_rounds=50)\n",
        "    models.append(model)\n",
        "    del train_features, train_target, test_features, test_target, d_training, d_test\n",
        "    gc.collect()\n"
      ],
      "execution_count": null,
      "outputs": [
        {
          "output_type": "stream",
          "text": [
            "/usr/local/lib/python3.7/dist-packages/lightgbm/basic.py:1205: UserWarning: Using categorical_feature in Dataset.\n",
            "  warnings.warn('Using categorical_feature in Dataset.')\n",
            "/usr/local/lib/python3.7/dist-packages/lightgbm/basic.py:762: UserWarning: categorical_feature in param dict is overridden.\n",
            "  warnings.warn('categorical_feature in param dict is overridden.')\n"
          ],
          "name": "stderr"
        },
        {
          "output_type": "stream",
          "text": [
            "Training until validation scores don't improve for 50 rounds.\n",
            "[25]\ttraining's rmse: 1.09001\tvalid_1's rmse: 1.24673\n",
            "[50]\ttraining's rmse: 0.896403\tvalid_1's rmse: 1.1325\n",
            "[75]\ttraining's rmse: 0.829505\tvalid_1's rmse: 1.1172\n",
            "[100]\ttraining's rmse: 0.791005\tvalid_1's rmse: 1.11749\n",
            "[125]\ttraining's rmse: 0.763006\tvalid_1's rmse: 1.12057\n",
            "Early stopping, best iteration is:\n",
            "[88]\ttraining's rmse: 0.808\tvalid_1's rmse: 1.11664\n",
            "Training until validation scores don't improve for 50 rounds.\n",
            "[25]\ttraining's rmse: 1.09654\tvalid_1's rmse: 1.2114\n",
            "[50]\ttraining's rmse: 0.90706\tvalid_1's rmse: 1.07634\n",
            "[75]\ttraining's rmse: 0.846507\tvalid_1's rmse: 1.04255\n",
            "[100]\ttraining's rmse: 0.813772\tvalid_1's rmse: 1.0352\n",
            "[125]\ttraining's rmse: 0.788703\tvalid_1's rmse: 1.03126\n",
            "[150]\ttraining's rmse: 0.771408\tvalid_1's rmse: 1.03218\n",
            "[175]\ttraining's rmse: 0.758719\tvalid_1's rmse: 1.03258\n",
            "Early stopping, best iteration is:\n",
            "[138]\ttraining's rmse: 0.779296\tvalid_1's rmse: 1.03104\n",
            "Training until validation scores don't improve for 50 rounds.\n",
            "[25]\ttraining's rmse: 1.06789\tvalid_1's rmse: 1.25388\n",
            "[50]\ttraining's rmse: 0.856707\tvalid_1's rmse: 1.15313\n",
            "[75]\ttraining's rmse: 0.784128\tvalid_1's rmse: 1.14391\n",
            "[100]\ttraining's rmse: 0.746101\tvalid_1's rmse: 1.14774\n",
            "Early stopping, best iteration is:\n",
            "[71]\ttraining's rmse: 0.792429\tvalid_1's rmse: 1.14351\n"
          ],
          "name": "stdout"
        }
      ]
    },
    {
      "cell_type": "code",
      "metadata": {
        "id": "rZQ6k11vFeCI",
        "colab": {
          "base_uri": "https://localhost:8080/"
        },
        "outputId": "bfa7c6e9-3691-4202-fa4c-728d3a13c91a"
      },
      "source": [
        "del features, target\n",
        "gc.collect()"
      ],
      "execution_count": null,
      "outputs": [
        {
          "output_type": "execute_result",
          "data": {
            "text/plain": [
              "602"
            ]
          },
          "metadata": {},
          "execution_count": 14
        }
      ]
    },
    {
      "cell_type": "code",
      "metadata": {
        "id": "nMtWdm9tFeGb",
        "colab": {
          "base_uri": "https://localhost:8080/",
          "height": 851
        },
        "outputId": "b68084c2-39db-4cca-a74e-d569eb47da9b"
      },
      "source": [
        "for model in models:\n",
        "    lgb.plot_importance(model)\n",
        "    plt.show()\n"
      ],
      "execution_count": null,
      "outputs": [
        {
          "output_type": "display_data",
          "data": {
            "image/png": "[encoded data removed]",
            "text/plain": [
              "<Figure size 432x288 with 1 Axes>"
            ]
          },
          "metadata": {
            "needs_background": "light"
          }
        },
        {
          "output_type": "display_data",
          "data": {
            "image/png": "[encoded data removed]",
            "text/plain": [
              "<Figure size 432x288 with 1 Axes>"
            ]
          },
          "metadata": {
            "needs_background": "light"
          }
        },
        {
          "output_type": "display_data",
          "data": {
            "image/png": "[encoded data removed]",
            "text/plain": [
              "<Figure size 432x288 with 1 Axes>"
            ]
          },
          "metadata": {
            "needs_background": "light"
          }
        }
      ]
    },
    {
      "cell_type": "code",
      "metadata": {
        "id": "eTYUOaWCOz4b",
        "colab": {
          "base_uri": "https://localhost:8080/"
        },
        "outputId": "8892d338-7042-4608-ac60-03faf7a8d70d"
      },
      "source": [
        "test_df = pd.read_csv('test.csv')\n",
        "row_ids = test_df[\"row_id\"]\n",
        "test_df.drop(\"row_id\", axis=1, inplace=True)\n",
        "test_df = reduce_mem_usage(test_df)"
      ],
      "execution_count": null,
      "outputs": [
        {
          "output_type": "stream",
          "text": [
            "Memory usage of dataframe is 954.38 MB\n",
            "Memory usage after optimization is: 199.59 MB\n",
            "Decreased by 79.1%\n"
          ],
          "name": "stdout"
        }
      ]
    },
    {
      "cell_type": "code",
      "metadata": {
        "id": "xoVsiuGgP9fd",
        "colab": {
          "base_uri": "https://localhost:8080/"
        },
        "outputId": "cba96ac5-41f3-4790-8305-d9cc5c523999"
      },
      "source": [
        "test_df = test_df.merge(building_meta_df,left_on='building_id',right_on='building_id',how='left')\n",
        "del building_meta_df\n",
        "gc.collect()"
      ],
      "execution_count": null,
      "outputs": [
        {
          "output_type": "execute_result",
          "data": {
            "text/plain": [
              "11758"
            ]
          },
          "metadata": {},
          "execution_count": 17
        }
      ]
    },
    {
      "cell_type": "code",
      "metadata": {
        "id": "jpQlSGBcP9ij",
        "colab": {
          "base_uri": "https://localhost:8080/"
        },
        "outputId": "96b24777-0983-4bf4-b8e6-d44d4ed39c70"
      },
      "source": [
        "weather_df = pd.read_csv('weather_test.csv')\n",
        "weather_df = fill_weather_dataset(weather_df)\n",
        "weather_df = reduce_mem_usage(weather_df)"
      ],
      "execution_count": null,
      "outputs": [
        {
          "output_type": "stream",
          "text": [
            "/usr/local/lib/python3.7/dist-packages/ipykernel_launcher.py:22: FutureWarning: Series.dt.weekofyear and Series.dt.week have been deprecated.  Please use Series.dt.isocalendar().week instead.\n"
          ],
          "name": "stderr"
        },
        {
          "output_type": "stream",
          "text": [
            "Memory usage of dataframe is 19.25 MB\n",
            "Memory usage after optimization is: 9.05 MB\n",
            "Decreased by 53.0%\n"
          ],
          "name": "stdout"
        }
      ]
    },
    {
      "cell_type": "code",
      "metadata": {
        "id": "1jnWXOERP9lZ",
        "colab": {
          "base_uri": "https://localhost:8080/"
        },
        "outputId": "4911adbb-29dc-4c41-ce7c-27635d24ad4c"
      },
      "source": [
        "test_df = test_df.merge(weather_df,how='left',on=['timestamp','site_id'])\n",
        "del weather_df\n",
        "gc.collect()"
      ],
      "execution_count": null,
      "outputs": [
        {
          "output_type": "execute_result",
          "data": {
            "text/plain": [
              "189"
            ]
          },
          "metadata": {},
          "execution_count": 19
        }
      ]
    },
    {
      "cell_type": "code",
      "metadata": {
        "id": "ruGTukOaP9q_"
      },
      "source": [
        "test_df = features_engineering(test_df)"
      ],
      "execution_count": null,
      "outputs": []
    },
    {
      "cell_type": "code",
      "metadata": {
        "id": "wNGJ-nr4P90S",
        "colab": {
          "base_uri": "https://localhost:8080/"
        },
        "outputId": "b018df84-840c-41e4-9d58-2850d24d5de9"
      },
      "source": [
        "test_df.shape"
      ],
      "execution_count": null,
      "outputs": [
        {
          "output_type": "execute_result",
          "data": {
            "text/plain": [
              "(41697600, 11)"
            ]
          },
          "metadata": {},
          "execution_count": 21
        }
      ]
    },
    {
      "cell_type": "code",
      "metadata": {
        "id": "ORGUAoJgP9-b"
      },
      "source": [
        "# results = []\n",
        "# for model in models:\n",
        "#     if  results == []:\n",
        "#         results = np.expm1(model.predict(test_df, num_iteration=model.best_iteration)) / len(models)\n",
        "#     else:\n",
        "#         results += np.expm1(model.predict(test_df, num_iteration=model.best_iteration)) / len(models)\n",
        "#     del model\n",
        "#     gc.collect()\n",
        "\n",
        "\n",
        "\n",
        "stepsize = 1000000\n",
        "results = np.zeros(test_df.shape[0])\n",
        "for model in models:\n",
        "  predictions = []\n",
        "  for i in range(0, test_df.shape[0], stepsize):\n",
        "    predictions.append(np.expm1(model.predict(test_df.loc[i:i+stepsize-1,:], num_iteration=model.best_iteration)))\n",
        "  results += (1 / len(models)) * np.concatenate(predictions, axis=0)\n",
        "  del model\n"
      ],
      "execution_count": null,
      "outputs": []
    },
    {
      "cell_type": "code",
      "metadata": {
        "id": "6XqR57usP-Aj",
        "colab": {
          "base_uri": "https://localhost:8080/"
        },
        "outputId": "4fbfa530-bb2a-456e-b3da-b34f51d12ce6"
      },
      "source": [
        "del test_df, models\n",
        "gc.collect()"
      ],
      "execution_count": null,
      "outputs": [
        {
          "output_type": "execute_result",
          "data": {
            "text/plain": [
              "566"
            ]
          },
          "metadata": {},
          "execution_count": 23
        }
      ]
    },
    {
      "cell_type": "code",
      "metadata": {
        "id": "LZrY5eDrSn9Z"
      },
      "source": [
        "\n",
        "# assert(results.shape[0] == test_.shape[0])    \n",
        "results_df = pd.DataFrame({\"row_id\": row_ids, \"meter_reading\": np.clip(results, 0, None)})\n",
        "results_df.to_csv(\"submission.csv\", index=False)\n",
        "\n",
        "# results_df = pd.DataFrame({\"row_id\": row_ids, \"meter_reading\": np.clip(results, 0, a_max=None)})\n",
        "# del row_ids,results\n",
        "# gc.collect()\n",
        "# results_df.to_csv(\"submission.csv\", index=False)"
      ],
      "execution_count": null,
      "outputs": []
    },
    {
      "cell_type": "code",
      "metadata": {
        "id": "dTmlbvPISn_7",
        "colab": {
          "base_uri": "https://localhost:8080/",
          "height": 665
        },
        "outputId": "ce55646e-cfdd-46ca-b506-28401f4c4857"
      },
      "source": [
        "results_df.head(20)"
      ],
      "execution_count": null,
      "outputs": [
        {
          "output_type": "execute_result",
          "data": {
            "text/html": [
              "<div>\n",
              "<style scoped>\n",
              "    .dataframe tbody tr th:only-of-type {\n",
              "        vertical-align: middle;\n",
              "    }\n",
              "\n",
              "    .dataframe tbody tr th {\n",
              "        vertical-align: top;\n",
              "    }\n",
              "\n",
              "    .dataframe thead th {\n",
              "        text-align: right;\n",
              "    }\n",
              "</style>\n",
              "<table border=\"1\" class=\"dataframe\">\n",
              "  <thead>\n",
              "    <tr style=\"text-align: right;\">\n",
              "      <th></th>\n",
              "      <th>row_id</th>\n",
              "      <th>meter_reading</th>\n",
              "    </tr>\n",
              "  </thead>\n",
              "  <tbody>\n",
              "    <tr>\n",
              "      <th>0</th>\n",
              "      <td>0</td>\n",
              "      <td>186.168107</td>\n",
              "    </tr>\n",
              "    <tr>\n",
              "      <th>1</th>\n",
              "      <td>1</td>\n",
              "      <td>85.102571</td>\n",
              "    </tr>\n",
              "    <tr>\n",
              "      <th>2</th>\n",
              "      <td>2</td>\n",
              "      <td>13.020658</td>\n",
              "    </tr>\n",
              "    <tr>\n",
              "      <th>3</th>\n",
              "      <td>3</td>\n",
              "      <td>249.669041</td>\n",
              "    </tr>\n",
              "    <tr>\n",
              "      <th>4</th>\n",
              "      <td>4</td>\n",
              "      <td>1130.942372</td>\n",
              "    </tr>\n",
              "    <tr>\n",
              "      <th>5</th>\n",
              "      <td>5</td>\n",
              "      <td>25.602277</td>\n",
              "    </tr>\n",
              "    <tr>\n",
              "      <th>6</th>\n",
              "      <td>6</td>\n",
              "      <td>96.963811</td>\n",
              "    </tr>\n",
              "    <tr>\n",
              "      <th>7</th>\n",
              "      <td>7</td>\n",
              "      <td>436.188862</td>\n",
              "    </tr>\n",
              "    <tr>\n",
              "      <th>8</th>\n",
              "      <td>8</td>\n",
              "      <td>358.571677</td>\n",
              "    </tr>\n",
              "    <tr>\n",
              "      <th>9</th>\n",
              "      <td>9</td>\n",
              "      <td>318.887387</td>\n",
              "    </tr>\n",
              "    <tr>\n",
              "      <th>10</th>\n",
              "      <td>10</td>\n",
              "      <td>61.438567</td>\n",
              "    </tr>\n",
              "    <tr>\n",
              "      <th>11</th>\n",
              "      <td>11</td>\n",
              "      <td>15.921869</td>\n",
              "    </tr>\n",
              "    <tr>\n",
              "      <th>12</th>\n",
              "      <td>12</td>\n",
              "      <td>1021.810963</td>\n",
              "    </tr>\n",
              "    <tr>\n",
              "      <th>13</th>\n",
              "      <td>13</td>\n",
              "      <td>343.161717</td>\n",
              "    </tr>\n",
              "    <tr>\n",
              "      <th>14</th>\n",
              "      <td>14</td>\n",
              "      <td>182.927084</td>\n",
              "    </tr>\n",
              "    <tr>\n",
              "      <th>15</th>\n",
              "      <td>15</td>\n",
              "      <td>206.531411</td>\n",
              "    </tr>\n",
              "    <tr>\n",
              "      <th>16</th>\n",
              "      <td>16</td>\n",
              "      <td>65.141509</td>\n",
              "    </tr>\n",
              "    <tr>\n",
              "      <th>17</th>\n",
              "      <td>17</td>\n",
              "      <td>273.948799</td>\n",
              "    </tr>\n",
              "    <tr>\n",
              "      <th>18</th>\n",
              "      <td>18</td>\n",
              "      <td>488.201301</td>\n",
              "    </tr>\n",
              "    <tr>\n",
              "      <th>19</th>\n",
              "      <td>19</td>\n",
              "      <td>206.350280</td>\n",
              "    </tr>\n",
              "  </tbody>\n",
              "</table>\n",
              "</div>"
            ],
            "text/plain": [
              "    row_id  meter_reading\n",
              "0        0     186.168107\n",
              "1        1      85.102571\n",
              "2        2      13.020658\n",
              "3        3     249.669041\n",
              "4        4    1130.942372\n",
              "5        5      25.602277\n",
              "6        6      96.963811\n",
              "7        7     436.188862\n",
              "8        8     358.571677\n",
              "9        9     318.887387\n",
              "10      10      61.438567\n",
              "11      11      15.921869\n",
              "12      12    1021.810963\n",
              "13      13     343.161717\n",
              "14      14     182.927084\n",
              "15      15     206.531411\n",
              "16      16      65.141509\n",
              "17      17     273.948799\n",
              "18      18     488.201301\n",
              "19      19     206.350280"
            ]
          },
          "metadata": {},
          "execution_count": 28
        }
      ]
    },
    {
      "cell_type": "code",
      "metadata": {
        "id": "9a2BpGydWeQU"
      },
      "source": [
        ""
      ],
      "execution_count": null,
      "outputs": []
    }
  ]
}